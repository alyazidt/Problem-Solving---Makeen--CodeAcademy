{
 "cells": [
  {
   "cell_type": "code",
   "execution_count": null,
   "id": "61195469",
   "metadata": {},
   "outputs": [],
   "source": [
    "\"\"\"\n",
    "Problem of the day #1\n",
    "Birthday cake candles:\n",
    "        Count how many candles are the tallest\n",
    "                 candles = [4,1,4,3]\n",
    "                 The tallest candles are 4 unit high, there are 2 candles with this hight\n",
    "                 (return the number of candles that are tallest)\n",
    "                 Sample input :                          |       Sample output : \n",
    "                              4 4 1 3 4                  |                    4  \n",
    "                              3 2 1 3                    |                    2\n",
    "                              1 2 3 4 5 5                |                    2  \n",
    "                              7                          |                    1 \n",
    "                                                         |                    \n",
    "\"\"\"\n"
   ]
  },
  {
   "cell_type": "code",
   "execution_count": 1,
   "id": "46759fe5",
   "metadata": {},
   "outputs": [
    {
     "name": "stdout",
     "output_type": "stream",
     "text": [
      "Number of tallest candles: 3\n"
     ]
    }
   ],
   "source": [
    "\n",
    "#Solve No.1 (Using Python)\n",
    "\n",
    "candles = [4,1,4,3,4]\n",
    "\n",
    "# Find the tallest and count how many\n",
    "tallest = max(candles)\n",
    "result = candles.count(tallest)\n",
    "\n",
    "print(\"Number of tallest candles:\", result)"
   ]
  },
  {
   "cell_type": "code",
   "execution_count": 2,
   "id": "dd920a50",
   "metadata": {},
   "outputs": [
    {
     "name": "stdout",
     "output_type": "stream",
     "text": [
      "Candles:  [3, 2, 1, 3]\n",
      "Number of tallest candles:  2\n"
     ]
    }
   ],
   "source": [
    "\n",
    "#Solve No.2 (Using Python)\n",
    "\n",
    "candles = list(map(int, input(\"Enter candle heights separated by spaces: \").split()))\n",
    "\n",
    "# Find the tallest and count how many\n",
    "tallest = max(candles)\n",
    "result = candles.count(tallest)\n",
    "\n",
    "print(\"Candles: \", candles)\n",
    "print(\"Number of tallest candles: \", result)"
   ]
  }
 ],
 "metadata": {
  "kernelspec": {
   "display_name": "Python 3",
   "language": "python",
   "name": "python3"
  },
  "language_info": {
   "codemirror_mode": {
    "name": "ipython",
    "version": 3
   },
   "file_extension": ".py",
   "mimetype": "text/x-python",
   "name": "python",
   "nbconvert_exporter": "python",
   "pygments_lexer": "ipython3",
   "version": "3.12.5"
  }
 },
 "nbformat": 4,
 "nbformat_minor": 5
}
